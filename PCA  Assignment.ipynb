{
 "cells": [
  {
   "cell_type": "code",
   "execution_count": 124,
   "id": "dfe1724e",
   "metadata": {},
   "outputs": [],
   "source": [
    "import os\n",
    "import numpy as np\n",
    "import pandas as pd\n",
    "from PIL import Image\n",
    "import zipfile\n",
    "from numpy.linalg import eig\n",
    "import matplotlib.pyplot as plt\n",
    "os.environ['KMP_DUPLICATE_LIB_OK']='True'"
   ]
  },
  {
   "cell_type": "code",
   "execution_count": 146,
   "id": "87621f02",
   "metadata": {},
   "outputs": [],
   "source": [
    "imageSize = (1600, 1600)"
   ]
  },
  {
   "cell_type": "code",
   "execution_count": 147,
   "id": "3bf38e29",
   "metadata": {},
   "outputs": [],
   "source": [
    "def getImagesVector(folderName,ext,no_of_imgs):\n",
    "    imgs=[]\n",
    "    for i in range(1,no_of_imgs):\n",
    "        img = Image.open('E:/MS-1/Stats & Math/Assignment/'+folderName+'/'+str(i)+'.'+ext).convert('L')\n",
    "        img = img.resize(imageSize)\n",
    "        arr = np.array(img)\n",
    "        #to vector\n",
    "        flat_arr = arr.ravel()\n",
    "        imgs.append(flat_arr)\n",
    "    return  imgs  "
   ]
  },
  {
   "cell_type": "code",
   "execution_count": 148,
   "id": "80db8e12",
   "metadata": {},
   "outputs": [
    {
     "data": {
      "text/plain": [
       "array([[72, 74, 75, ..., 41, 37, 36]], dtype=uint8)"
      ]
     },
     "execution_count": 148,
     "metadata": {},
     "output_type": "execute_result"
    }
   ],
   "source": [
    "rizz=np.array(getImagesVector('Rizwan','jpg',10))\n",
    "rizz[0:1]"
   ]
  },
  {
   "cell_type": "code",
   "execution_count": 149,
   "id": "f75f6386",
   "metadata": {},
   "outputs": [],
   "source": [
    "salu=getImagesVector('Salman','jpg',10)"
   ]
  },
  {
   "cell_type": "code",
   "execution_count": 150,
   "id": "b3f5e28b",
   "metadata": {},
   "outputs": [],
   "source": [
    "haider=getImagesVector('Haider','jpg',10)"
   ]
  },
  {
   "cell_type": "code",
   "execution_count": 151,
   "id": "8f4cf2f9",
   "metadata": {},
   "outputs": [],
   "source": [
    "sajid=getImagesVector('Sajid','jpeg',10)"
   ]
  },
  {
   "cell_type": "code",
   "execution_count": 152,
   "id": "37e00609",
   "metadata": {},
   "outputs": [
    {
     "data": {
      "text/plain": [
       "array([[72, 74, 75, ..., 41, 37, 36]], dtype=uint8)"
      ]
     },
     "execution_count": 152,
     "metadata": {},
     "output_type": "execute_result"
    }
   ],
   "source": [
    "data=np.append(rizz,salu,axis=0)\n",
    "data[0:1]"
   ]
  },
  {
   "cell_type": "code",
   "execution_count": 153,
   "id": "f195f153",
   "metadata": {},
   "outputs": [],
   "source": [
    "data=np.append(data,haider,axis=0)"
   ]
  },
  {
   "cell_type": "code",
   "execution_count": 154,
   "id": "d79cc5eb",
   "metadata": {},
   "outputs": [],
   "source": [
    "data=np.append(data,sajid,axis=0)"
   ]
  },
  {
   "cell_type": "code",
   "execution_count": 155,
   "id": "373c875c",
   "metadata": {},
   "outputs": [
    {
     "data": {
      "text/plain": [
       "(36, 2560000)"
      ]
     },
     "execution_count": 155,
     "metadata": {},
     "output_type": "execute_result"
    }
   ],
   "source": [
    "data.shape"
   ]
  },
  {
   "cell_type": "code",
   "execution_count": 156,
   "id": "0ba095cb",
   "metadata": {},
   "outputs": [],
   "source": [
    "face_vector = np.array(imgs)\n",
    "data_copy=face_vector.T"
   ]
  },
  {
   "cell_type": "code",
   "execution_count": 157,
   "id": "823c4d97",
   "metadata": {},
   "outputs": [
    {
     "data": {
      "text/plain": [
       "(2560000, 36)"
      ]
     },
     "execution_count": 157,
     "metadata": {},
     "output_type": "execute_result"
    }
   ],
   "source": [
    "data_copy=data.T\n",
    "data_copy.shape"
   ]
  },
  {
   "cell_type": "code",
   "execution_count": 158,
   "id": "7fd76797",
   "metadata": {},
   "outputs": [
    {
     "data": {
      "text/plain": [
       "(2560000, 1)"
      ]
     },
     "execution_count": 158,
     "metadata": {},
     "output_type": "execute_result"
    }
   ],
   "source": [
    "mean=np.array([np.mean(data_copy,axis=1)])\n",
    "mean=mean.T\n",
    "mean.shape"
   ]
  },
  {
   "cell_type": "code",
   "execution_count": 159,
   "id": "aed7615f",
   "metadata": {},
   "outputs": [
    {
     "data": {
      "text/plain": [
       "(2560000, 36)"
      ]
     },
     "execution_count": 159,
     "metadata": {},
     "output_type": "execute_result"
    }
   ],
   "source": [
    "I=data_copy-mean\n",
    "I.shape"
   ]
  },
  {
   "cell_type": "code",
   "execution_count": 160,
   "id": "5eb4ec18",
   "metadata": {},
   "outputs": [
    {
     "data": {
      "text/plain": [
       "(36, 2560000)"
      ]
     },
     "execution_count": 160,
     "metadata": {},
     "output_type": "execute_result"
    }
   ],
   "source": [
    "It=I.T\n",
    "It.shape"
   ]
  },
  {
   "cell_type": "code",
   "execution_count": 161,
   "id": "f6292512",
   "metadata": {},
   "outputs": [
    {
     "data": {
      "text/plain": [
       "(36, 36)"
      ]
     },
     "execution_count": 161,
     "metadata": {},
     "output_type": "execute_result"
    }
   ],
   "source": [
    "covamatrix=np.dot(It,I)\n",
    "covamatrix.shape"
   ]
  },
  {
   "cell_type": "code",
   "execution_count": 162,
   "id": "4082744a",
   "metadata": {},
   "outputs": [
    {
     "data": {
      "text/plain": [
       "(36, 36)"
      ]
     },
     "execution_count": 162,
     "metadata": {},
     "output_type": "execute_result"
    }
   ],
   "source": [
    "eigval,eigvec=eig(covamatrix)\n",
    "eigvec.shape"
   ]
  },
  {
   "cell_type": "code",
   "execution_count": 165,
   "id": "1e963ad0",
   "metadata": {},
   "outputs": [
    {
     "data": {
      "text/plain": [
       "(36, 1)"
      ]
     },
     "execution_count": 165,
     "metadata": {},
     "output_type": "execute_result"
    }
   ],
   "source": [
    "res=np.zeros([36,1])\n",
    "res.shape"
   ]
  },
  {
   "cell_type": "code",
   "execution_count": null,
   "id": "cb04f609",
   "metadata": {},
   "outputs": [],
   "source": [
    "for i in range(len(eigval)):\n",
    "    res[i]=(eigval[i]/np.sum(eigval))*100\n",
    "    print('Eigen Value',i,'=',res[i])"
   ]
  },
  {
   "cell_type": "code",
   "execution_count": 167,
   "id": "e9ec824b",
   "metadata": {},
   "outputs": [],
   "source": [
    "k = 36\n",
    "k_eigen_vectors = eigvec[:,0:k]"
   ]
  },
  {
   "cell_type": "code",
   "execution_count": null,
   "id": "cde5a46a",
   "metadata": {},
   "outputs": [],
   "source": [
    "eigface=I.dot(k_eigen_vectors)\n",
    "for i in range(0,35):\n",
    "    img=(eigface.T[i].reshape(imageSize))\n",
    "    plt.imshow(img, cmap=\"gray\")\n",
    "    plt.show()"
   ]
  },
  {
   "cell_type": "code",
   "execution_count": 169,
   "id": "603046b5",
   "metadata": {},
   "outputs": [
    {
     "data": {
      "text/plain": [
       "(2560000, 36)"
      ]
     },
     "execution_count": 169,
     "metadata": {},
     "output_type": "execute_result"
    }
   ],
   "source": [
    "eigface.shape"
   ]
  },
  {
   "cell_type": "code",
   "execution_count": 170,
   "id": "abb43fb5",
   "metadata": {},
   "outputs": [
    {
     "data": {
      "text/plain": [
       "(2560000, 36)"
      ]
     },
     "execution_count": 170,
     "metadata": {},
     "output_type": "execute_result"
    }
   ],
   "source": [
    "I.shape"
   ]
  },
  {
   "cell_type": "code",
   "execution_count": 171,
   "id": "88d83703",
   "metadata": {},
   "outputs": [
    {
     "data": {
      "text/plain": [
       "(36, 36)"
      ]
     },
     "execution_count": 171,
     "metadata": {},
     "output_type": "execute_result"
    }
   ],
   "source": [
    "pc=It.dot(eigface)\n",
    "pc.shape "
   ]
  },
  {
   "cell_type": "code",
   "execution_count": 172,
   "id": "4778b56f",
   "metadata": {},
   "outputs": [
    {
     "data": {
      "text/plain": [
       "(2560000, 36)"
      ]
     },
     "execution_count": 172,
     "metadata": {},
     "output_type": "execute_result"
    }
   ],
   "source": [
    "reconstructed=np.dot(np.linalg.pinv(eigface).T,pc.T)\n",
    "reconstructed.shape"
   ]
  },
  {
   "cell_type": "code",
   "execution_count": 173,
   "id": "d90b4e72",
   "metadata": {},
   "outputs": [
    {
     "name": "stdout",
     "output_type": "stream",
     "text": [
      "[[72. 74. 75. ... 41. 37. 36.]]\n",
      "[[72 74 75 ... 41 37 36]]\n"
     ]
    }
   ],
   "source": [
    "final=reconstructed.T+mean.T\n",
    "print(final[0:1])\n",
    "print(data[0:1])"
   ]
  },
  {
   "cell_type": "code",
   "execution_count": 174,
   "id": "8855ffec",
   "metadata": {},
   "outputs": [
    {
     "data": {
      "text/plain": [
       "(2560000,)"
      ]
     },
     "execution_count": 174,
     "metadata": {},
     "output_type": "execute_result"
    }
   ],
   "source": [
    "final[0].shape"
   ]
  },
  {
   "cell_type": "code",
   "execution_count": null,
   "id": "ce412147",
   "metadata": {},
   "outputs": [],
   "source": [
    "for i in range(0,35):\n",
    "    img=(final[i].reshape(imageSize))\n",
    "    plt.imshow(img, cmap=\"gray\")\n",
    "    plt.show()\n",
    "   "
   ]
  },
  {
   "cell_type": "code",
   "execution_count": 176,
   "id": "e87b3dd8",
   "metadata": {},
   "outputs": [],
   "source": [
    "from sklearn.model_selection import train_test_split\n",
    "from sklearn.neighbors import KNeighborsClassifier"
   ]
  },
  {
   "cell_type": "code",
   "execution_count": 177,
   "id": "ae5059a4",
   "metadata": {},
   "outputs": [],
   "source": [
    "X=pc\n",
    "Y=['Rizwan','Rizwan','Rizwan','Rizwan','Rizwan','Rizwan','Rizwan','Rizwan','Rizwan',\n",
    "   'Salman','Salman','Salman','Salman','Salman','Salman','Salman','Salman','Salman',\n",
    "   'Haider','Haider','Haider','Haider','Haider','Haider','Haider','Haider','Haider',\n",
    "   'Sajid','Sajid','Sajid','Sajid','Sajid','Sajid','Sajid','Sajid','Sajid',\n",
    "    ]\n",
    "X_train, X_test, y_train, y_test = train_test_split(X, Y, test_size=0.2, random_state=42)"
   ]
  },
  {
   "cell_type": "code",
   "execution_count": 178,
   "id": "9dd08063",
   "metadata": {},
   "outputs": [],
   "source": [
    "from sklearn.neighbors import KNeighborsClassifier\n",
    "knn=KNeighborsClassifier(n_neighbors=4)"
   ]
  },
  {
   "cell_type": "code",
   "execution_count": 179,
   "id": "d69360b1",
   "metadata": {},
   "outputs": [
    {
     "data": {
      "text/plain": [
       "KNeighborsClassifier(n_neighbors=4)"
      ]
     },
     "execution_count": 179,
     "metadata": {},
     "output_type": "execute_result"
    }
   ],
   "source": [
    "knn.fit(X_train,y_train)"
   ]
  },
  {
   "cell_type": "code",
   "execution_count": 180,
   "id": "b3c1dad2",
   "metadata": {},
   "outputs": [
    {
     "data": {
      "text/plain": [
       "1.0"
      ]
     },
     "execution_count": 180,
     "metadata": {},
     "output_type": "execute_result"
    }
   ],
   "source": [
    "knn.score(X_test,y_test)"
   ]
  },
  {
   "cell_type": "code",
   "execution_count": null,
   "id": "ae7ebc52",
   "metadata": {},
   "outputs": [],
   "source": [
    "for i in range(0,35):\n",
    "    ms=data[i]-mean.T\n",
    "    ms=ms.dot(v.T)\n",
    "    print(i,knn.predict(ms))"
   ]
  },
  {
   "cell_type": "code",
   "execution_count": 182,
   "id": "17d25742",
   "metadata": {},
   "outputs": [
    {
     "name": "stdout",
     "output_type": "stream",
     "text": [
      "[[72. 74. 75. ... 41. 37. 36.]]\n",
      "[[72 74 75 ... 41 37 36]]\n"
     ]
    }
   ],
   "source": [
    "k = 30\n",
    "k_eigen_vectors = eigvec[:,0:k]\n",
    "pc=It.dot(eigface)\n",
    "reconstructed=np.dot(np.linalg.pinv(eigface).T,pc.T)\n",
    "final=reconstructed.T+mean.T\n",
    "print(final[0:1])\n",
    "print(data[0:1])"
   ]
  },
  {
   "cell_type": "code",
   "execution_count": 183,
   "id": "f9baed7e",
   "metadata": {},
   "outputs": [
    {
     "data": {
      "text/plain": [
       "1.0"
      ]
     },
     "execution_count": 183,
     "metadata": {},
     "output_type": "execute_result"
    }
   ],
   "source": [
    "X=pc\n",
    "X_train, X_test, y_train, y_test = train_test_split(X, Y, test_size=0.2, random_state=42)\n",
    "knn=KNeighborsClassifier(n_neighbors=4)\n",
    "knn.fit(X_train,y_train)\n",
    "knn.score(X_test,y_test)"
   ]
  },
  {
   "cell_type": "code",
   "execution_count": 184,
   "id": "bb8b22e4",
   "metadata": {},
   "outputs": [
    {
     "name": "stdout",
     "output_type": "stream",
     "text": [
      "[[72. 74. 75. ... 41. 37. 36.]]\n",
      "[[72 74 75 ... 41 37 36]]\n"
     ]
    },
    {
     "data": {
      "text/plain": [
       "1.0"
      ]
     },
     "execution_count": 184,
     "metadata": {},
     "output_type": "execute_result"
    }
   ],
   "source": [
    "k = 20\n",
    "k_eigen_vectors = eigvec[:,0:k]\n",
    "pc=It.dot(eigface)\n",
    "reconstructed=np.dot(np.linalg.pinv(eigface).T,pc.T)\n",
    "final=reconstructed.T+mean.T\n",
    "print(final[0:1])\n",
    "print(data[0:1])\n",
    "X=pc\n",
    "X_train, X_test, y_train, y_test = train_test_split(X, Y, test_size=0.2, random_state=42)\n",
    "knn=KNeighborsClassifier(n_neighbors=4)\n",
    "knn.fit(X_train,y_train)\n",
    "knn.score(X_test,y_test)"
   ]
  },
  {
   "cell_type": "code",
   "execution_count": 185,
   "id": "35a729fb",
   "metadata": {},
   "outputs": [
    {
     "name": "stdout",
     "output_type": "stream",
     "text": [
      "[[72. 74. 75. ... 41. 37. 36.]]\n",
      "[[72 74 75 ... 41 37 36]]\n"
     ]
    },
    {
     "data": {
      "text/plain": [
       "1.0"
      ]
     },
     "execution_count": 185,
     "metadata": {},
     "output_type": "execute_result"
    }
   ],
   "source": [
    "k = 10\n",
    "k_eigen_vectors = eigvec[:,0:k]\n",
    "pc=It.dot(eigface)\n",
    "reconstructed=np.dot(np.linalg.pinv(eigface).T,pc.T)\n",
    "final=reconstructed.T+mean.T\n",
    "print(final[0:1])\n",
    "print(data[0:1])\n",
    "X=pc\n",
    "X_train, X_test, y_train, y_test = train_test_split(X, Y, test_size=0.2, random_state=42)\n",
    "knn=KNeighborsClassifier(n_neighbors=4)\n",
    "knn.fit(X_train,y_train)\n",
    "knn.score(X_test,y_test)"
   ]
  },
  {
   "cell_type": "code",
   "execution_count": 186,
   "id": "0ffed006",
   "metadata": {},
   "outputs": [
    {
     "name": "stdout",
     "output_type": "stream",
     "text": [
      "[[72. 74. 75. ... 41. 37. 36.]]\n",
      "[[72 74 75 ... 41 37 36]]\n"
     ]
    },
    {
     "data": {
      "text/plain": [
       "1.0"
      ]
     },
     "execution_count": 186,
     "metadata": {},
     "output_type": "execute_result"
    }
   ],
   "source": [
    "k = 5\n",
    "k_eigen_vectors = eigvec[:,0:k]\n",
    "pc=It.dot(eigface)\n",
    "reconstructed=np.dot(np.linalg.pinv(eigface).T,pc.T)\n",
    "final=reconstructed.T+mean.T\n",
    "print(final[0:1])\n",
    "print(data[0:1])\n",
    "X=pc\n",
    "X_train, X_test, y_train, y_test = train_test_split(X, Y, test_size=0.2, random_state=42)\n",
    "knn=KNeighborsClassifier(n_neighbors=4)\n",
    "knn.fit(X_train,y_train)\n",
    "knn.score(X_test,y_test)"
   ]
  },
  {
   "cell_type": "code",
   "execution_count": null,
   "id": "fbd5a2f4",
   "metadata": {},
   "outputs": [],
   "source": [
    "for i in range(0,35):\n",
    "    img=(final[i].reshape(imageSize))\n",
    "    plt.imshow(img, cmap=\"gray\")\n",
    "    plt.show()"
   ]
  },
  {
   "cell_type": "code",
   "execution_count": 188,
   "id": "feb1819d",
   "metadata": {},
   "outputs": [
    {
     "name": "stdout",
     "output_type": "stream",
     "text": [
      "[[72. 74. 75. ... 41. 37. 36.]]\n",
      "[[72 74 75 ... 41 37 36]]\n"
     ]
    },
    {
     "data": {
      "text/plain": [
       "1.0"
      ]
     },
     "execution_count": 188,
     "metadata": {},
     "output_type": "execute_result"
    }
   ],
   "source": [
    "k = 1\n",
    "k_eigen_vectors = eigvec[:,0:k]\n",
    "pc=It.dot(eigface)\n",
    "reconstructed=np.dot(np.linalg.pinv(eigface).T,pc.T)\n",
    "final=reconstructed.T+mean.T\n",
    "print(final[0:1])\n",
    "print(data[0:1])\n",
    "X=pc\n",
    "X_train, X_test, y_train, y_test = train_test_split(X, Y, test_size=0.2, random_state=42)\n",
    "knn=KNeighborsClassifier(n_neighbors=4)\n",
    "knn.fit(X_train,y_train)\n",
    "knn.score(X_test,y_test)"
   ]
  },
  {
   "cell_type": "code",
   "execution_count": null,
   "id": "ca03d99d",
   "metadata": {},
   "outputs": [],
   "source": [
    "for i in range(0,35):\n",
    "    img=(final[i].reshape(imageSize))\n",
    "    plt.imshow(img, cmap=\"gray\")\n",
    "    plt.show()"
   ]
  },
  {
   "cell_type": "markdown",
   "id": "b0add4cf",
   "metadata": {},
   "source": [
    "# Report\n",
    "- I just make a minor change in reconstruction method and as can see my with only one eigen vector my results are 100% <br>\n",
    "- The change is very simple which we have studied in our high school math <br>\n",
    "\n",
    "- **PCA = Meansubtracted_Data * Eigen_vector <br>**\n",
    "- **Recon = PCA * Inverse(Eigen_Vector)**"
   ]
  },
  {
   "cell_type": "code",
   "execution_count": null,
   "id": "db7364ff",
   "metadata": {},
   "outputs": [],
   "source": []
  }
 ],
 "metadata": {
  "kernelspec": {
   "display_name": "Python 3 (ipykernel)",
   "language": "python",
   "name": "python3"
  },
  "language_info": {
   "codemirror_mode": {
    "name": "ipython",
    "version": 3
   },
   "file_extension": ".py",
   "mimetype": "text/x-python",
   "name": "python",
   "nbconvert_exporter": "python",
   "pygments_lexer": "ipython3",
   "version": "3.9.7"
  },
  "varInspector": {
   "cols": {
    "lenName": 16,
    "lenType": 16,
    "lenVar": 40
   },
   "kernels_config": {
    "python": {
     "delete_cmd_postfix": "",
     "delete_cmd_prefix": "del ",
     "library": "var_list.py",
     "varRefreshCmd": "print(var_dic_list())"
    },
    "r": {
     "delete_cmd_postfix": ") ",
     "delete_cmd_prefix": "rm(",
     "library": "var_list.r",
     "varRefreshCmd": "cat(var_dic_list()) "
    }
   },
   "types_to_exclude": [
    "module",
    "function",
    "builtin_function_or_method",
    "instance",
    "_Feature"
   ],
   "window_display": false
  }
 },
 "nbformat": 4,
 "nbformat_minor": 5
}
